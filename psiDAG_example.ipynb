{
 "cells": [
  {
   "cell_type": "code",
   "execution_count": 1,
   "id": "3764825f",
   "metadata": {},
   "outputs": [],
   "source": [
    "import matplotlib.pyplot as plt\n",
    "import numpy as np\n",
    "import torch\n",
    "torch.set_num_threads(1)\n",
    "import networkx as nx\n",
    "\n",
    "from utils import projection_order1, mask_from_order\n",
    "from data_generator import data_generator,generate_DAG, generator_matrix\n",
    "device = torch.device('cuda' if torch.cuda.is_available() else 'cpu')\n",
    "torch.set_default_dtype(torch.float64)\n",
    "import opt\n",
    "import time\n",
    "from tqdm import tqdm"
   ]
  },
  {
   "cell_type": "code",
   "execution_count": 2,
   "id": "7aa82aa1",
   "metadata": {},
   "outputs": [],
   "source": [
    "seed = 0\n",
    "torch.random.manual_seed(seed)\n",
    "np.random.seed(seed)\n",
    "B_scale = 1.0 \n",
    "B_ranges = ((B_scale * -1.0, B_scale * -0.05), (B_scale * 0.05, B_scale * 1.0))\n",
    "n_test = 10000\n",
    "d = 10\n",
    "degree = 2\n",
    "graph_type = 'ER'\n",
    "noise_type = 'gaussian_ev'\n",
    "DAG = generate_DAG(d, graph_type, degree, B_ranges, hd = False, seed=seed)\n",
    "assert nx.is_directed_acyclic_graph(nx.DiGraph(DAG.B))\n",
    "B = torch.tensor(DAG.B).to(device)\n",
    "GM = generator_matrix(B)\n",
    "X_test = data_generator(generator_matrix=GM, bs=n_test, noise_type=noise_type, seed=seed).to(device)\n",
    "X = data_generator(generator_matrix=GM, bs=5000, noise_type=noise_type, seed=seed).to(device)\n",
    "testing = False\n",
    "verbose = False"
   ]
  },
  {
   "cell_type": "code",
   "execution_count": 3,
   "id": "a540fbc6",
   "metadata": {},
   "outputs": [],
   "source": [
    "def full_loss_(X, B):\n",
    "    return (0.5 / X.size()[0]) * torch.square(X - X @ B).sum()\n",
    "true_order = projection_order1(B)\n",
    "optimal_test_loss = full_loss_(X_test, B)"
   ]
  },
  {
   "cell_type": "code",
   "execution_count": 4,
   "id": "74efac92",
   "metadata": {},
   "outputs": [],
   "source": [
    "main_mask = torch.eye(d).to(device) == 0\n",
    "D0 = torch.zeros(d,d).to(device) * main_mask\n",
    "true_distance = (D0-B).norm()\n",
    "distance = torch.ceil(true_distance )"
   ]
  },
  {
   "cell_type": "code",
   "execution_count": 5,
   "id": "f84fb14e",
   "metadata": {},
   "outputs": [],
   "source": [
    "@torch.no_grad()\n",
    "def full_loss(D):\n",
    "    return (0.5 / X_test.size()[0]) * torch.square(X_test - X_test @ D).sum()\n",
    "\n",
    "def loss(D, bs, mask):\n",
    "    x  = data_generator(GM, bs=bs).to(device)\n",
    "    return 0.5/bs  * torch.square(x - x @ (D * mask)).sum() #+ 0.001* masked_D.norm(p=1) + 0.000 * masked_D.norm(p=2) ** 2\n",
    "\n",
    "def quadratic_optimization(D, optimizer, num_iter, mask, loss=loss, full_loss=full_loss, bs=1, log_iter=100, testing=testing):\n",
    "    losses_inside = []\n",
    "    with torch.no_grad():\n",
    "        D *= mask\n",
    "    for i in range(num_iter):\n",
    "        if i % log_iter == 0 and testing:\n",
    "            losses_inside.append(full_loss(D).item())\n",
    "        def closure():\n",
    "            optimizer.zero_grad()\n",
    "            return loss(D=D,bs=bs,mask=mask)\n",
    "        optimizer.step(closure)\n",
    "    with torch.no_grad():\n",
    "        D *= mask\n",
    "    return D, losses_inside\n",
    "    \n",
    "    "
   ]
  },
  {
   "cell_type": "code",
   "execution_count": 6,
   "id": "6a10a772",
   "metadata": {},
   "outputs": [],
   "source": [
    "epochs = 10\n",
    "num_iter_outer = 1000 \n",
    "num_iter_inner = 1000\n",
    "bs = 64\n",
    "D = D0.clone().requires_grad_()\n",
    "optimizer = opt.UniversalSGD([D], D=distance)\n",
    "times = [0.]\n",
    "main_losses = [full_loss(D).item()]\n",
    "total_iters= (num_iter_outer+num_iter_inner)//2"
   ]
  },
  {
   "cell_type": "code",
   "execution_count": 7,
   "id": "a1dd3774",
   "metadata": {},
   "outputs": [
    {
     "name": "stderr",
     "output_type": "stream",
     "text": [
      "100%|█████████████████████████████████████| 10/10 [00:34<00:00,  3.41s/it]\n"
     ]
    }
   ],
   "source": [
    "for j in tqdm(range(epochs)):\n",
    "    time_start = time.time()\n",
    "    D, loss = quadratic_optimization(D,optimizer,num_iter_outer, mask=main_mask)\n",
    "    with torch.no_grad():\n",
    "        order = projection_order1(D)\n",
    "\n",
    "        mask = mask_from_order(order, main_mask)\n",
    "        \n",
    "        time_end = time.time()\n",
    "        times.append(times[-1]+(time_end-time_start))\n",
    "        loss = full_loss(D * mask).item()\n",
    "        main_losses.append(loss)\n",
    "    \n",
    "        time_start = time.time()\n",
    "        \n",
    "    D, loss = quadratic_optimization(D,optimizer,num_iter_inner, mask=mask)\n",
    "    \n",
    "    with torch.no_grad():\n",
    "        time_end = time.time()\n",
    "    \n",
    "        times.append(times[-1]+(time_end-time_start ))\n",
    "        loss = full_loss(D * mask).item()\n",
    "        main_losses.append(loss)\n",
    "        "
   ]
  },
  {
   "cell_type": "code",
   "execution_count": 8,
   "id": "50b15d8b",
   "metadata": {},
   "outputs": [],
   "source": [
    "# import pickle\n",
    "# with open('d=10_n=5000_ER2_gaussian_ev.pickle', 'wb') as handle:\n",
    "#     pickle.dump((main_losses, times, optimal_test_loss, total_iters), handle, protocol=pickle.HIGHEST_PROTOCOL)\n",
    "\n",
    "\n",
    "# with open('d=10_n=5000_ER2_gaussian_ev.pickle', 'rb') as handle:\n",
    "#     main_losses, times, optimal_test_loss, total_iters = pickle.load(handle)"
   ]
  },
  {
   "cell_type": "code",
   "execution_count": 9,
   "id": "18de9ae8",
   "metadata": {
    "collapsed": true
   },
   "outputs": [
    {
     "data": {
      "image/png": "[encoded data removed]",
      "text/plain": [
       "<Figure size 432x288 with 1 Axes>"
      ]
     },
     "metadata": {
      "needs_background": "light"
     },
     "output_type": "display_data"
    }
   ],
   "source": [
    "import matplotlib.pyplot as plt\n",
    "import torch\n",
    "plt.semilogy(times, torch.tensor(main_losses)-optimal_test_loss.cpu(), 'r', label= '$\\psi$DAG')\n",
    "plt.xlabel('Runtime, s')\n",
    "plt.ylabel('$f(x_k)-f(\\overline{x})$')\n",
    "plt.legend()\n",
    "plt.tight_layout()\n",
    "plt.savefig('d=10_ER2_5000_gaussian_ev_time.pdf')"
   ]
  },
  {
   "cell_type": "code",
   "execution_count": 10,
   "id": "82343ce7",
   "metadata": {},
   "outputs": [],
   "source": [
    "grads_iter1 = torch.tensor(range(len(main_losses)))\n",
    "grads_iter1 *= 1000"
   ]
  },
  {
   "cell_type": "code",
   "execution_count": 11,
   "id": "78cc2ac5",
   "metadata": {
    "collapsed": true
   },
   "outputs": [
    {
     "data": {
      "image/png": "[encoded data removed]",
      "text/plain": [
       "<Figure size 432x288 with 1 Axes>"
      ]
     },
     "metadata": {
      "needs_background": "light"
     },
     "output_type": "display_data"
    }
   ],
   "source": [
    "plt.semilogy(grads_iter1, torch.tensor(main_losses)-optimal_test_loss.cpu(), 'r', label= '$\\psi$DAG')\n",
    "plt.xlabel('Stoch. gradient computations')\n",
    "plt.ylabel('$f(x_k)-f(\\overline{x})$')\n",
    "plt.legend()\n",
    "plt.tight_layout()\n",
    "plt.savefig('d=10_ER2_5000_gaussian_ev_iters.pdf')"
   ]
  }
 ],
 "metadata": {
  "kernelspec": {
   "display_name": "OCM",
   "language": "python",
   "name": "ocm"
  },
  "language_info": {
   "codemirror_mode": {
    "name": "ipython",
    "version": 3
   },
   "file_extension": ".py",
   "mimetype": "text/x-python",
   "name": "python",
   "nbconvert_exporter": "python",
   "pygments_lexer": "ipython3",
   "version": "3.9.7"
  }
 },
 "nbformat": 4,
 "nbformat_minor": 5
}
